{
 "cells": [
  {
   "attachments": {},
   "cell_type": "markdown",
   "metadata": {},
   "source": [
    "# Plotting higher order vectors with DOLFIN"
   ]
  },
  {
   "cell_type": "code",
   "execution_count": null,
   "metadata": {},
   "outputs": [],
   "source": [
    "import dolfin\n",
    "from dolfin_pyvista_adapter import plot\n",
    "mesh = dolfin.UnitCubeMesh(2, 2, 2)\n",
    "Vv = dolfin.VectorFunctionSpace(mesh, \"Lagrange\", 3)\n",
    "v = dolfin.Function(Vv)\n",
    "v.interpolate(dolfin.Expression((\"x[0]\", \"x[1]\", \"pow(x[2], 3)\"), degree=1))\n",
    "plot(v, show_edges=True, glyph_factor=0.1, off_screen=False)"
   ]
  }
 ],
 "metadata": {
  "language_info": {
   "name": "python"
  },
  "orig_nbformat": 4
 },
 "nbformat": 4,
 "nbformat_minor": 2
}
